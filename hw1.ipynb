{
 "cells": [
  {
   "cell_type": "markdown",
   "metadata": {
    "id": "jcZGbXpmwN_q"
   },
   "source": [
    "#### PyNet: Building your own deep neural network with Numpy\n",
    "##### Submission files:\n",
    "- hw1.ipynb (with your completed code)\n",
    "- PDF version of hw1.ipynb (with all results rendered)\n",
    "\n",
    "##### Instructions:\n",
    "- Complete the code below to train a deep neural network for binary classificaiton on a synthetic dataset.\n",
    "- Design a deep neural network architecture for this binary classification task and achieve > 90% accuracy on test set.\n",
    "- Note that to compute the backward pass, you might want to reuse some intermediate results from forward pass."
   ]
  },
  {
   "cell_type": "code",
   "execution_count": 1,
   "metadata": {
    "id": "sdQDlrrxwN_z"
   },
   "outputs": [],
   "source": [
    "import numpy as np\n",
    "import os\n",
    "from sklearn.datasets import make_moons\n",
    "from sklearn.model_selection import train_test_split\n",
    "\n",
    "import matplotlib.pyplot as plt\n",
    "from matplotlib import cm"
   ]
  },
  {
   "cell_type": "markdown",
   "metadata": {
    "id": "YWcu2zdnwN_4"
   },
   "source": [
    "### Parameter Class \n",
    "##### A class storing the parameter values and gradients in a Layer. "
   ]
  },
  {
   "cell_type": "code",
   "execution_count": 2,
   "metadata": {
    "id": "k61yeb7SwN_5"
   },
   "outputs": [],
   "source": [
    "class Parameter():\n",
    "    \"\"\"\n",
    "    A class used to store parameters in a Layer.\n",
    "\n",
    "    ...\n",
    "\n",
    "    Attributes\n",
    "    ----------\n",
    "    val : np.array\n",
    "        Values of learnable parameters. (e.g. weight/bias in linear layer) \n",
    "    grad: np.array\n",
    "        Values of gradients required for training.\n",
    "\n",
    "    Methods\n",
    "    -------\n",
    "    init_param()\n",
    "        Initialize the layer parameters before training.\n",
    "    \"\"\"\n",
    "    def __init__(self, dim_shape):\n",
    "        self.dim_shape = dim_shape\n",
    "        self.val = np.zeros(dim_shape)\n",
    "        self.grad = np.zeros_like(self.val)"
   ]
  },
  {
   "cell_type": "markdown",
   "metadata": {
    "id": "gjhr1bYfwN_6"
   },
   "source": [
    "### Layer Class \n",
    "##### An abstract class for all required computational modules in this assignment."
   ]
  },
  {
   "cell_type": "code",
   "execution_count": 3,
   "metadata": {
    "id": "_Wou-m1OwN_7"
   },
   "outputs": [],
   "source": [
    "class Layer:\n",
    "    \"\"\"\n",
    "    An abstract class for all required computational modules.\n",
    "\n",
    "    ...\n",
    "\n",
    "    Attributes\n",
    "    ----------\n",
    "    val : np.array\n",
    "        Values of learnable parameters. (e.g. weight/bias in linear layer) \n",
    "    grad: np.array\n",
    "        Values of gradients required for training.\n",
    "\n",
    "    Methods\n",
    "    -------\n",
    "    init_param()\n",
    "        Initialize the layer parameters before training.\n",
    "    forward()\n",
    "        forward computation module.\n",
    "    backward()\n",
    "        backpropagation module.\n",
    "    parameters()\n",
    "        Get trainable parameters/gradients.\n",
    "    \"\"\"\n",
    "    def __init__(self):\n",
    "        pass\n",
    "\n",
    "    def init_param(self):\n",
    "        pass\n",
    "\n",
    "    def forward(self):\n",
    "        pass\n",
    "\n",
    "    def backward(self):\n",
    "        pass\n",
    "\n",
    "    def parameters(self):\n",
    "        pass"
   ]
  },
  {
   "cell_type": "markdown",
   "metadata": {
    "id": "I3vBrFerwN_8"
   },
   "source": [
    "### (1) Linear Layer Class [10 points]\n",
    "##### Instructions\n",
    "- init_param\n",
    "    - Use random initialization for the weights, e.g., np.random.randn()*0.1 with the correct shape.\n",
    "    - Zero initialization for the biases.\n",
    "- forward\n",
    "    - Having initialized weight and bias, and given an input to the layer, compute the output of the layer.\n",
    "- backward\n",
    "    - Suppose you have an upstream gradient d_output = $\\frac{\\partial loss}{\\partial output}$\n",
    "    - Compute (d_input, d_weight, d_bias) using the chain rule."
   ]
  },
  {
   "cell_type": "code",
   "execution_count": 4,
   "metadata": {
    "id": "sMA_GfRrwN_9"
   },
   "outputs": [],
   "source": [
    "class Linear(Layer):\n",
    "    \"\"\"\n",
    "    Linear layer.\n",
    "\n",
    "    ...\n",
    "\n",
    "    Methods\n",
    "    -------\n",
    "    init_param()\n",
    "        Initialize the layer parameters before training.\n",
    "    forward()\n",
    "        forward computation module.\n",
    "    backward()\n",
    "        backpropagation module.\n",
    "    parameters()\n",
    "        Get trainable parameters/gradients of weight and bias for optimization.\n",
    "    \"\"\"\n",
    "    def __init__(self, input_dim, output_dim):\n",
    "        self.input_dim = input_dim\n",
    "        self.output_dim = output_dim\n",
    "        self.init_param()\n",
    "\n",
    "    def init_param(self):\n",
    "        weights_dim_shape = (self.output_dim, self.input_dim)\n",
    "        biases_dim_shape = (self.output_dim, 1)\n",
    "        self.weights = Parameter(weights_dim_shape)\n",
    "        self.weights.val = np.random.randn(self.output_dim, self.input_dim)*0.1 \n",
    "        self.biases = Parameter(biases_dim_shape)\n",
    "        \n",
    "    def forward(self, input):\n",
    "        self.x = input\n",
    "        return np.dot(self.weights.val, input) + self.biases.val\n",
    "\n",
    "    def backward(self, backward_input):\n",
    "        self.weights.grad = np.dot(backward_input, self.x.T)\n",
    "        self.biases.grad = backward_input.mean(axis=1, keepdims=True)\n",
    "        grad = np.dot(self.weights.val.T, backward_input)\n",
    "         \n",
    "        return grad\n",
    "\n",
    "    def parameters(self, learning_rate):\n",
    "        #return [self.weights.val, self.weights.grad, self.biases.val, self.biases.grad]\n",
    "        #Instead of returning trainable parameters I have the SGD class call this function\n",
    "        #directly for optimization. I believe this way is cleaner. \n",
    "        #This allows for easier access to each layers weights and biases.\n",
    "        self.weights.val = self.weights.val - learning_rate * self.weights.grad\n",
    "        self.biases.val = self.biases.val - learning_rate * self.biases.grad\n"
   ]
  },
  {
   "cell_type": "markdown",
   "metadata": {
    "id": "onwEDIdowN_-"
   },
   "source": [
    "### (2) ReLU Class [5 points]\n",
    "##### Instruction\n",
    "- forward\n",
    "    - Implement forward computation for a ReLU unit.\n",
    "- backward\n",
    "    - Implement backpropagation for a ReLU unit."
   ]
  },
  {
   "cell_type": "code",
   "execution_count": 5,
   "metadata": {
    "id": "nJlHw8-3wOAA"
   },
   "outputs": [],
   "source": [
    "class ReLU(Layer):\n",
    "    \"\"\"\n",
    "    ReLU activation unit.\n",
    "\n",
    "    ...\n",
    "\n",
    "    Methods\n",
    "    -------\n",
    "    forward()\n",
    "        forward computation module.\n",
    "    backward()\n",
    "        backpropagation module.\n",
    "    \"\"\"\n",
    "    def __init__(self):\n",
    "        pass \n",
    "\n",
    "    def forward(self, input):\n",
    "        self.input = input\n",
    "        return np.maximum(0,self.input)\n",
    "\n",
    "    def backward(self, backward_input):\n",
    "        backward_input[self.input <= 0] = 0\n",
    "        return backward_input \n"
   ]
  },
  {
   "cell_type": "markdown",
   "metadata": {
    "id": "kXzfEurXwOAB"
   },
   "source": [
    "### (3) Sigmoid Class [5 points]\n",
    "##### Instructions\n",
    "- forward\n",
    "    - Implement forward computation for a sigmoid unit.\n",
    "- backward\n",
    "    - Implement backpropagation for a sigmoid unit."
   ]
  },
  {
   "cell_type": "code",
   "execution_count": 6,
   "metadata": {
    "id": "owlW3p05wOAB"
   },
   "outputs": [],
   "source": [
    "class Sigmoid(Layer):\n",
    "    \"\"\"\n",
    "    Sigmoid activation unit.\n",
    "\n",
    "    ...\n",
    "\n",
    "    Methods\n",
    "    -------\n",
    "    forward()\n",
    "        forward computation module.\n",
    "    backward()\n",
    "        backpropagation module.\n",
    "    \"\"\"\n",
    "    def __init__(self):\n",
    "        pass\n",
    "\n",
    "    def forward(self, input):\n",
    "        self.input = input\n",
    "        return 1/(1 + np.exp(-self.input))\n",
    "        \n",
    "    def backward(self, backward_input):\n",
    "        prev = 1/(1 + np.exp(-self.input))\n",
    "        return backward_input * prev * (1 - prev)\n"
   ]
  },
  {
   "cell_type": "markdown",
   "metadata": {
    "id": "oE1d3LcEwOAC"
   },
   "source": [
    "### (4) Binary Cross-Entropy Loss Class [10 points]\n",
    "##### Instructions\n",
    "- forward\n",
    "    - Implement the forward computation to compute binary cross entropy loss: $y \\log p + (1 - y) \\log (1 - p)$\n",
    "    - Input and label are both probability distributions\n",
    "- backward\n",
    "    - Implement backpropagation for binary cross-entropy."
   ]
  },
  {
   "cell_type": "code",
   "execution_count": 7,
   "metadata": {
    "id": "B6F3aClYwOAC"
   },
   "outputs": [],
   "source": [
    "class BinaryCrossEntropyLoss(Layer):\n",
    "    def __init__(self):\n",
    "        pass\n",
    "\n",
    "    def forward(self, input, label):\n",
    "        bce_loss = -(label * np.log(input) + (1 - label) * np.log(1 - input)).mean()\n",
    "        return bce_loss\n",
    "\n",
    "    def backward(self, input, label):\n",
    "        num_labels = len(label) \n",
    "        grad = (-(label / input) + ((1 - label) / (1 - input))) / num_labels\n",
    "        return grad"
   ]
  },
  {
   "cell_type": "markdown",
   "metadata": {
    "id": "WzXxdcGowOAD"
   },
   "source": [
    "### (5) Stochastic Gradient Descent Optimizer [5 points]\n",
    "##### Instructions\n",
    "- step \n",
    "    - Update parameter values by their gradient.\n",
    "    "
   ]
  },
  {
   "cell_type": "code",
   "execution_count": 8,
   "metadata": {
    "id": "BZ9c3LLUwOAD"
   },
   "outputs": [],
   "source": [
    "class Optimizer_SGD():\n",
    "    def __init__(self, param_list, learning_rate=0.01):\n",
    "        self.learning_rate = learning_rate\n",
    "        self.param_list = param_list\n",
    "\n",
    "    def step(self, layer):\n",
    "        self.layer = layer \n",
    "        #the actual parameter update takes place within self.layer.parameters()\n",
    "        self.layer.parameters(self.learning_rate)\n",
    "        #for self.layer in self.layers:\n",
    "          #if type(self.layer) is Linear:\n",
    "            #dw = self.param_list[0]\n",
    "            #db = self.param_list[0]\n",
    "          #self.layer.weights.val = self.layer.weights.val - self.learning_rate * self.layer.weights.grad\n",
    "          #self.layer.biases.val = self.layer.biases.val - self.learning_rate * self.layer.weights.grad"
   ]
  },
  {
   "cell_type": "markdown",
   "metadata": {
    "id": "v82tR3QxwOAD"
   },
   "source": [
    "### (6) Model Class [15 points]\n",
    "##### Instructions\n",
    "- Build a deep model by stacking multiple Linear layers with non-linear activations\n",
    "- Initialize the parameters for Linear layers.\n",
    "- Implement the forward computation for the model.\n",
    "- Implement backpropagation for the model.\n",
    "- Your model architecture should be able to attain at least 90% test accuracy on the subsequent task."
   ]
  },
  {
   "cell_type": "code",
   "execution_count": 9,
   "metadata": {
    "id": "bJfJ8RaSSiq2"
   },
   "outputs": [],
   "source": [
    "class Model:\n",
    "    \"\"\"\n",
    "    A deep neural network architecture for binary classification.\n",
    "\n",
    "    ...\n",
    "\n",
    "    Methods\n",
    "    -------\n",
    "    __init__()\n",
    "        Define your own deep network by stacking modules above.\n",
    "    forward()\n",
    "        forward computation.\n",
    "    backward()\n",
    "        backpagation.\n",
    "    parameters()\n",
    "        return learnable parameters/gradients stored in all layers in model.\n",
    "    \"\"\"\n",
    "    def __init__(self, layers, loss_fn, opt_fn):\n",
    "        self.layers = layers \n",
    "        self.loss_fn = loss_fn \n",
    "        self.opt_fn = opt_fn\n",
    "     \n",
    "    def forward(self, input):\n",
    "        for layer in self.layers:\n",
    "            forward = layer.forward(input)\n",
    "            input = forward\n",
    "             \n",
    "        return forward\n",
    "\n",
    "    def backward(self, backward_input):\n",
    "        bce_loss = self.loss_fn\n",
    "        loss = bce_loss.forward(self.X, backward_input)\n",
    "        grad = bce_loss.backward(self.X, backward_input)\n",
    "\n",
    "        for layer in reversed(self.layers):\n",
    "            if type(layer) is not Linear: \n",
    "                grad = layer.backward(grad)\n",
    "            else:\n",
    "                grad = layer.backward(grad)\n",
    "                self.opt_fn.step(layer)\n",
    "\n",
    "        return loss\n",
    "\n",
    "    def parameters(self):\n",
    "        #Instead of returning learnable parameters stored in all layers in model,\n",
    "        #I decided to use sgd call to modify parameters directly via Linear.parameters(). \n",
    "        #Thus, this function is unnecessary.\n",
    "        #params = []\n",
    "        #for layer in self.layers:\n",
    "        #  params.append(layer.parameters())\n",
    "        #return params\n",
    "        pass"
   ]
  },
  {
   "cell_type": "markdown",
   "metadata": {
    "id": "_PilnLm8wOAF"
   },
   "source": [
    "### Generate Training Data\n",
    "* Here, we generate 2D data points for binary classification.\n",
    "* This data is not linearly separable, and therefore, you will need to build a multi-layer network with non-linear activations to fit the data."
   ]
  },
  {
   "cell_type": "code",
   "execution_count": 10,
   "metadata": {
    "id": "9tK_S9iDwOAF"
   },
   "outputs": [],
   "source": [
    "# number of samples in the data set\n",
    "N_SAMPLES = 1000\n",
    "# ratio between training and test sets\n",
    "TEST_SIZE = 0.1\n",
    "X, y = make_moons(n_samples = N_SAMPLES, noise=0.2, random_state=100)\n",
    "X_train, X_test, y_train, y_test = train_test_split(X, y, test_size=TEST_SIZE, random_state=42)"
   ]
  },
  {
   "cell_type": "code",
   "execution_count": 11,
   "metadata": {
    "colab": {
     "base_uri": "https://localhost:8080/",
     "height": 747
    },
    "id": "eEzGTyeRwOAF",
    "outputId": "4749481d-4cee-4112-8ab2-35780e6a6aa3"
   },
   "outputs": [
    {
     "data": {
      "image/png": "[encoded data removed]",
      "text/plain": [
       "<Figure size 1152x864 with 1 Axes>"
      ]
     },
     "metadata": {
      "needs_background": "light"
     },
     "output_type": "display_data"
    }
   ],
   "source": [
    "# the function making up the graph of a dataset\n",
    "def make_plot(X, y, plot_name):\n",
    "    plt.figure(figsize=(16,12))\n",
    "    axes = plt.gca()\n",
    "    axes.set(xlabel=\"$X_1$\", ylabel=\"$X_2$\")\n",
    "    plt.title(plot_name, fontsize=30)\n",
    "    plt.subplots_adjust(left=0.20)\n",
    "    plt.subplots_adjust(right=0.80)\n",
    "    plt.scatter(X[y == 0, 0], X[y == 0, 1], s=40, c = 'blue', label = 'Class 1')\n",
    "    plt.scatter(X[y == 1, 0], X[y == 1, 1], s=40, c = 'red', label = 'Class 2')\n",
    "    plt.legend()\n",
    "    plt.show()\n",
    "make_plot(X, y, 'Data Points')"
   ]
  },
  {
   "cell_type": "markdown",
   "metadata": {
    "id": "3tiOv2iiwOAH"
   },
   "source": [
    "### (7) Training and Testing the Model [15 points]\n",
    "- Implement the training loop to optimize your model's parameters over multiple epochs.\n",
    "- You can experiment with training strategy, e.g., batch size, epochs, learning rate, and model architecture to achieve the best performance.\n",
    "- Note that you can modify the input shape to fit your implementation.\n",
    "- Implement a fuction that runs a trained model on test data and returns accuracy."
   ]
  },
  {
   "cell_type": "code",
   "execution_count": 17,
   "metadata": {
    "colab": {
     "base_uri": "https://localhost:8080/",
     "height": 0
    },
    "id": "vN-Q6g3PwOAH",
    "outputId": "e72ce706-3d5e-43d7-c5e8-eb6b8c131111"
   },
   "outputs": [
    {
     "name": "stdout",
     "output_type": "stream",
     "text": [
      "Epoch: 0 / Loss: 0.693162121659307\n",
      "Epoch: 1000 / Loss: 0.693151200851212\n",
      "Epoch: 2000 / Loss: 0.6931429198373397\n",
      "Epoch: 3000 / Loss: 0.6931374810817065\n",
      "Epoch: 4000 / Loss: 0.6931317551913238\n",
      "Epoch: 5000 / Loss: 0.6931253755609785\n",
      "Epoch: 6000 / Loss: 0.6931179744853256\n",
      "Epoch: 7000 / Loss: 0.6931099432962123\n",
      "Epoch: 8000 / Loss: 0.693100778250597\n",
      "Epoch: 9000 / Loss: 0.6930902270397347\n",
      "Epoch: 10000 / Loss: 0.6930769393006391\n",
      "Epoch: 11000 / Loss: 0.6930595514119529\n",
      "Epoch: 12000 / Loss: 0.6930361310352825\n",
      "Epoch: 13000 / Loss: 0.6930035653554703\n",
      "Epoch: 14000 / Loss: 0.692956482453831\n",
      "Epoch: 15000 / Loss: 0.6928852246232456\n",
      "Epoch: 16000 / Loss: 0.6927701591274664\n",
      "Epoch: 17000 / Loss: 0.6925642430854838\n",
      "Epoch: 18000 / Loss: 0.6920921239056942\n",
      "Epoch: 19000 / Loss: 0.689799743634063\n",
      "Epoch: 20000 / Loss: 0.4923588197025232\n",
      "Epoch: 21000 / Loss: 0.4881540119100169\n",
      "Epoch: 22000 / Loss: 0.48105263363152584\n",
      "Epoch: 23000 / Loss: 0.4740232456307919\n",
      "Epoch: 24000 / Loss: 0.46707782528610725\n",
      "Epoch: 25000 / Loss: 0.30904198359877916\n",
      "Epoch: 26000 / Loss: 0.2578216199862365\n",
      "Epoch: 27000 / Loss: 0.25097694629424755\n",
      "Epoch: 28000 / Loss: 0.24355258808000904\n",
      "Epoch: 29000 / Loss: 0.23474369983843948\n",
      "Epoch: 30000 / Loss: 0.2269170493695965\n",
      "Epoch: 31000 / Loss: 0.21966707692197324\n",
      "Epoch: 32000 / Loss: 0.2137067519073569\n",
      "Epoch: 33000 / Loss: 0.20756405178475967\n",
      "Epoch: 34000 / Loss: 0.20557962548453979\n",
      "Model accuracy: 0.91\n"
     ]
    }
   ],
   "source": [
    "loss_fn = BinaryCrossEntropyLoss()\n",
    "architecture = [Linear(2, 4), ReLU(), Linear(4,8), ReLU(), Linear(8,16), ReLU(), Linear(16,4), ReLU(), Linear(4,1), Sigmoid()]\n",
    "optimizer = Optimizer_SGD([], learning_rate=0.04)\n",
    "model = Model(layers=architecture, loss_fn=loss_fn, opt_fn=optimizer)\n",
    "\n",
    "def train(X, Y, model, loss_fn, optimizer, epochs=10000):\n",
    "    for epoch in range(epochs):\n",
    "        forward = model.forward(X)\n",
    "        model.X = forward\n",
    "\n",
    "        loss = model.backward(Y)\n",
    "        #optimizer.step()\n",
    "\n",
    "        if epoch % 1000 == 0:\n",
    "            print('Epoch: {} / Loss: {}'.format(epoch,loss))  \n",
    "\n",
    "train(X_train.T,   y_train,  model, loss_fn,  optimizer, epochs=35000)\n",
    "    \n",
    "def get_test_accuracy(model, X_test, y_test):\n",
    "    preds = model.forward(X_test.T).T\n",
    "    rounded_preds = []\n",
    "\n",
    "    for p in preds:\n",
    "        if p < 0.5:\n",
    "            rounded_preds.append(0)\n",
    "        else:\n",
    "            rounded_preds.append(1)\n",
    "\n",
    "    correct = 0\n",
    "    total = len(y_test)\n",
    "    for i in range(total):\n",
    "        if rounded_preds[i] == y_test[i]:\n",
    "            correct = correct + 1\n",
    "\n",
    "    return (correct/total)\n",
    "\n",
    "accuracy = get_test_accuracy(model, X_test, y_test)\n",
    "print('Model accuracy: {}'.format(accuracy))\n",
    "    "
   ]
  },
  {
   "cell_type": "markdown",
   "metadata": {
    "id": "ZNz1yW7rwOAH"
   },
   "source": [
    "### Visualization: Plot the Decision Boundary"
   ]
  },
  {
   "cell_type": "code",
   "execution_count": 18,
   "metadata": {
    "colab": {
     "base_uri": "https://localhost:8080/",
     "height": 386
    },
    "id": "kLQ-9IY0wOAI",
    "outputId": "b2217334-c49c-4d3d-d3e8-05d65451f433"
   },
   "outputs": [
    {
     "data": {
      "image/png": "[encoded data removed]",
      "text/plain": [
       "<Figure size 576x432 with 1 Axes>"
      ]
     },
     "metadata": {
      "needs_background": "light"
     },
     "output_type": "display_data"
    }
   ],
   "source": [
    "def plot_decision_boundary(model, X_train, Y_train, X_test, Y_test):\n",
    "    # function to draw the model's decision boundary\n",
    "    h = 0.05\n",
    "    X = np.concatenate([X_train, X_test], axis = 0)\n",
    "    x_min, x_max = X[:, 0].min() - 1, X[:, 0].max() + 1\n",
    "    y_min, y_max = X[:, 1].min() - 1, X[:, 1].max() + 1\n",
    "    xx, yy = np.meshgrid(np.arange(x_min, x_max, h),\n",
    "                         np.arange(y_min, y_max, h))\n",
    "    input = np.stack([xx,yy], axis = -1).reshape(-1,2)\n",
    "    pred = model.forward(input.transpose(1,0))\n",
    "    index = pred >= 0.5\n",
    "    plt.figure(figsize=(8,6))\n",
    "    ax = plt.gca()\n",
    "    plt.title('Decision Boundary', fontsize=30)\n",
    "    ax.contourf(xx, yy, index.reshape(xx.shape), cmap=plt.cm.Paired)\n",
    "    ax.axis('off')\n",
    "    ax.scatter(X_test[Y_test == 0,0], X_test[Y_test == 0,1], s = 40,  c = 'blue', label = 'Class 1')\n",
    "    ax.scatter(X_test[Y_test == 1,0], X_test[Y_test == 1,1], s = 40, c = 'red', label = 'Class 2')\n",
    "    plt.legend()\n",
    "    plt.show()\n",
    "\n",
    "plot_decision_boundary(model, X_train, y_train, X_test, y_test)"
   ]
  },
  {
   "cell_type": "code",
   "execution_count": null,
   "metadata": {},
   "outputs": [],
   "source": []
  }
 ],
 "metadata": {
  "accelerator": "GPU",
  "colab": {
   "collapsed_sections": [],
   "name": "hw1.ipynb",
   "provenance": []
  },
  "kernelspec": {
   "display_name": "Python 3",
   "language": "python",
   "name": "python3"
  },
  "language_info": {
   "codemirror_mode": {
    "name": "ipython",
    "version": 3
   },
   "file_extension": ".py",
   "mimetype": "text/x-python",
   "name": "python",
   "nbconvert_exporter": "python",
   "pygments_lexer": "ipython3",
   "version": "3.8.5"
  }
 },
 "nbformat": 4,
 "nbformat_minor": 5
}
